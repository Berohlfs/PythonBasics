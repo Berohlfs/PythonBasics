{
 "cells": [
  {
   "cell_type": "code",
   "execution_count": 1,
   "id": "cca4f620-5cdc-4433-9a9a-2096bae242ef",
   "metadata": {},
   "outputs": [
    {
     "name": "stdout",
     "output_type": "stream",
     "text": [
      "Age as an integer: 12\n",
      "Age as a string: 12\n",
      "Age as a boolean: True\n"
     ]
    }
   ],
   "source": [
    "# Python is both dinamically and strongly typed\n",
    "\n",
    "age = 12\n",
    "\n",
    "print('Age as an integer: ' + str(age)) # type casting is necessary to avoid errors (Python won't apply type coersion)\n",
    "\n",
    "age = \"12\"\n",
    "\n",
    "print('Age as a string: ' + age)\n",
    "\n",
    "age = True\n",
    "\n",
    "print('Age as a boolean: ' + str(age))"
   ]
  },
  {
   "cell_type": "code",
   "execution_count": 2,
   "id": "009d4bc7-c3fd-433a-b8f7-70bcd8f29e11",
   "metadata": {},
   "outputs": [
    {
     "name": "stdout",
     "output_type": "stream",
     "text": [
      "My name is Bernardo\n",
      "\n",
      "My name is: \n",
      "Bernardo.\n",
      "\n",
      "24\n"
     ]
    }
   ],
   "source": [
    "# Strings introduction\n",
    "\n",
    "# Single line\n",
    "sentence = 'My name is Bernardo'\n",
    "print(sentence)\n",
    "\n",
    "# Multiple lines\n",
    "sentence = \"\"\"\n",
    "My name is: \n",
    "Bernardo.\n",
    "\"\"\"\n",
    "print(sentence)\n",
    "\n",
    "# Length\n",
    "print(len(sentence))"
   ]
  },
  {
   "cell_type": "code",
   "execution_count": 26,
   "id": "0f7e7a0e-2255-49e3-97fc-376fec76921d",
   "metadata": {},
   "outputs": [
    {
     "name": "stdout",
     "output_type": "stream",
     "text": [
      "B\n",
      ".\n",
      "Bra\n",
      "razil is located in South America.\n",
      "Brazil\n",
      "Brazil is located in South America.\n",
      "Bai slctdi ot mrc.\n",
      "iza\n"
     ]
    }
   ],
   "source": [
    "# String slicing\n",
    "\n",
    "example = 'Brazil is located in South America.'\n",
    "\n",
    "# Strings are a chain of characters. Each character has it's own index.\n",
    "# Syntax --> string[start:end:step]\n",
    "print(example[0])\n",
    "print(example[-1])\n",
    "print(example[0:3])\n",
    "print(example[1:])\n",
    "print(example[:6])\n",
    "print(example[:])\n",
    "print(example[0::2])\n",
    "print(example[4:1:-1]) # Attention to this one.\n",
    "\n",
    "# Obs: Negative steps executes slicing from right to left.\n",
    "\n",
    "# When doing positive step slicing, I like to imagine the indexes placed in between the values. \n",
    "# Ex: index '0' would be placed on the LEFT side of the first value. With negative step slicing, the logic is the same, \n",
    "# however, indexes are now placed on the RIGHT side of their respective values.\n",
    "# THIS HELPS A LOT when doing slicing operations, avoiding 'off-by-one' mistakes."
   ]
  },
  {
   "cell_type": "code",
   "execution_count": 27,
   "id": "68d96ca5-a486-4ad7-80ca-cc3a10fbc4a1",
   "metadata": {},
   "outputs": [
    {
     "name": "stdout",
     "output_type": "stream",
     "text": [
      "Bernardo Rohlfs\n",
      "Bernardo Rohlfs\n",
      "4\n"
     ]
    }
   ],
   "source": [
    "# String concatenation and interpolation\n",
    "\n",
    "name = 'Bernardo'\n",
    "last_name = 'Rohlfs'\n",
    "\n",
    "print(name + ' ' + last_name) # Concatenation\n",
    "print(f\"{name} {last_name}\") # Interpolation with f-strings\n",
    "\n",
    "print(f\"{2 + 2}\") # f-strings auto converts data type to string"
   ]
  },
  {
   "cell_type": "code",
   "execution_count": 28,
   "id": "4320b758-ab4d-481e-8833-bc6c882a428a",
   "metadata": {},
   "outputs": [
    {
     "name": "stdout",
     "output_type": "stream",
     "text": [
      "    PYTHON COURSE\n",
      "    python course\n",
      "    Python Course\n",
      "Python course\n",
      "-1\n",
      "    Pythxn cxurse\n",
      "True\n",
      "False\n"
     ]
    }
   ],
   "source": [
    "# String built-in methods\n",
    "\n",
    "course = '    Python course'\n",
    "\n",
    "# All are out-of-place methods\n",
    "print(course.upper())\n",
    "print(course.lower())\n",
    "print(course.title())\n",
    "print(course.strip()) # lstrip for 'left' and rstrip for 'right'\n",
    "print(course.find('Pre')) # Returns the index of first occurrence (-1 when not found)\n",
    "print(course.replace('o', 'x')) # Replaces all occurrences\n",
    "print('Py' in course) # Returns boolean value\n",
    "print('Py' not in course) # Returns boolean value"
   ]
  },
  {
   "cell_type": "code",
   "execution_count": 29,
   "id": "02419018-7f8f-4cae-ba47-62acbdd48e48",
   "metadata": {},
   "outputs": [
    {
     "name": "stdout",
     "output_type": "stream",
     "text": [
      "18.3\n",
      "11.7\n",
      "49.5\n",
      "4.545454545454546\n",
      "4.0\n",
      "1.8000000000000007\n",
      "7605.033910343958\n",
      "16\n",
      "17\n"
     ]
    }
   ],
   "source": [
    "# Numbers\n",
    "\n",
    "example_int = 15\n",
    "example_float = 3.3\n",
    "\n",
    "# Operations\n",
    "\n",
    "print(example_int + example_float)\n",
    "print(example_int - example_float)\n",
    "print(example_int * example_float)\n",
    "print(example_int / example_float)\n",
    "\n",
    "print(example_int // example_float) # Returns only the integer part of the division\n",
    "print(example_int % example_float) # Modulus\n",
    "print(example_int ** example_float) # Exponent\n",
    "\n",
    "# Incrementing operations\n",
    "\n",
    "example_int = example_int + 1\n",
    "print(example_int)\n",
    "\n",
    "example_int += 1\n",
    "print(example_int)"
   ]
  },
  {
   "cell_type": "code",
   "execution_count": 30,
   "id": "ec2aa2b0-518c-4aff-8a95-23cd1970aabb",
   "metadata": {},
   "outputs": [
    {
     "name": "stdout",
     "output_type": "stream",
     "text": [
      "15.4\n",
      "-15\n",
      "-16\n"
     ]
    }
   ],
   "source": [
    "# Operations and math module\n",
    "\n",
    "import math\n",
    "\n",
    "number = -15.4\n",
    "\n",
    "print(abs(number))\n",
    "print(round(number))\n",
    "print(math.floor(number)) # Python's default math module"
   ]
  },
  {
   "cell_type": "code",
   "execution_count": 8,
   "id": "15dad865-06c0-4c3d-ac33-f3b7e204f994",
   "metadata": {},
   "outputs": [
    {
     "name": "stdin",
     "output_type": "stream",
     "text": [
      "Type your age: 14\n"
     ]
    },
    {
     "name": "stdout",
     "output_type": "stream",
     "text": [
      "<class 'str'>\n",
      "86\n"
     ]
    }
   ],
   "source": [
    "# Type casting and input function\n",
    "\n",
    "age = input('Type your age:')\n",
    "\n",
    "print(type(age)) # Input methods returns a value of type string\n",
    "\n",
    "years_until_100 = 100 - int(age) # Type casting is necessary in order to do some operations\n",
    "\n",
    "print(years_until_100)\n",
    "\n",
    "# int()\n",
    "# float()\n",
    "# bool()\n",
    "# str()\n",
    "\n",
    "# \"Falsy\" values in Python are 'None', \"\" (empty string) and 0."
   ]
  },
  {
   "cell_type": "code",
   "execution_count": null,
   "id": "4beb4b46-7b67-4762-9228-9c35d7845012",
   "metadata": {},
   "outputs": [],
   "source": []
  }
 ],
 "metadata": {
  "kernelspec": {
   "display_name": "Python 3 (ipykernel)",
   "language": "python",
   "name": "python3"
  },
  "language_info": {
   "codemirror_mode": {
    "name": "ipython",
    "version": 3
   },
   "file_extension": ".py",
   "mimetype": "text/x-python",
   "name": "python",
   "nbconvert_exporter": "python",
   "pygments_lexer": "ipython3",
   "version": "3.12.3"
  }
 },
 "nbformat": 4,
 "nbformat_minor": 5
}
