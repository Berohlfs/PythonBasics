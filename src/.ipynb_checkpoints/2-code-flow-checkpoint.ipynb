{
 "cells": [
  {
   "cell_type": "code",
   "execution_count": 1,
   "id": "f4e06893-c1b5-4c26-80c3-dd8e859eba22",
   "metadata": {},
   "outputs": [
    {
     "name": "stdout",
     "output_type": "stream",
     "text": [
      "True\n",
      "False\n",
      "True\n",
      "False\n",
      "False\n",
      "False\n",
      "True\n",
      "True\n"
     ]
    }
   ],
   "source": [
    "# Comparison operators\n",
    "\n",
    "print(10 > 3)\n",
    "print(3 < 3)\n",
    "print(3 <= 3)\n",
    "print(3 >= 5)\n",
    "\n",
    "print(3 == 5)\n",
    "print(3 == \"3\") # Types are taken into account\n",
    "print(3 != \"3\")\n",
    "\n",
    "# Strings can also be compared (alphabetical order, NOT length)\n",
    "print('apple' < 'bag')\n",
    "\n",
    "# All these above are conditional statements that return a BOOLEAN value."
   ]
  },
  {
   "cell_type": "code",
   "execution_count": 2,
   "id": "038804f2-46c9-4a37-9ab2-7fcd1210f1c6",
   "metadata": {},
   "outputs": [
    {
     "name": "stdout",
     "output_type": "stream",
     "text": [
      "Cold.\n"
     ]
    }
   ],
   "source": [
    "# Condicional statements and structures\n",
    "\n",
    "temperature = 15\n",
    "\n",
    "if temperature > 25:\n",
    "    print('Hot.')\n",
    "elif temperature > 17:\n",
    "    print('Cool.')\n",
    "else:\n",
    "    print('Cold.')"
   ]
  },
  {
   "cell_type": "code",
   "execution_count": 3,
   "id": "63d6af6d-2d37-4464-ad78-6f8818792d95",
   "metadata": {},
   "outputs": [
    {
     "name": "stdout",
     "output_type": "stream",
     "text": [
      "Look at the moon\n"
     ]
    }
   ],
   "source": [
    "# Ternary conditional structure\n",
    "\n",
    "day_time = False\n",
    "\n",
    "message = 'Look at the sun' if day_time else 'Look at the moon'\n",
    "\n",
    "print(message)"
   ]
  },
  {
   "cell_type": "code",
   "execution_count": 4,
   "id": "7ad1fe9e-90b9-4d9d-9d80-16ace326d85b",
   "metadata": {},
   "outputs": [
    {
     "name": "stdout",
     "output_type": "stream",
     "text": [
      "You are good to go!\n",
      "In between.\n",
      "character identified.\n"
     ]
    }
   ],
   "source": [
    "# Logical operators\n",
    "\n",
    "# and; or; not\n",
    "\n",
    "qualified_driver = True\n",
    "drunk = False\n",
    "\n",
    "if qualified_driver and (not drunk):\n",
    "    print('You are good to go!')\n",
    "else:\n",
    "    print('Nope')\n",
    "\n",
    "# 'OR' operators use short-circuit evaluation ;)\n",
    "\n",
    "# Python allows chaining comparison operators\n",
    "\n",
    "if 0 < 30 < 60:\n",
    "    print('In between.')\n",
    "\n",
    "# Check for membership\n",
    "\n",
    "name = 'Bernardo'\n",
    "if 'e' in name:\n",
    "    print('character identified.')"
   ]
  },
  {
   "cell_type": "code",
   "execution_count": 5,
   "id": "523534a2-5eff-4805-b093-cf86d604ff80",
   "metadata": {},
   "outputs": [
    {
     "name": "stdout",
     "output_type": "stream",
     "text": [
      "0\n",
      "1\n",
      "2\n",
      "3\n",
      "4\n",
      "-> 0\n",
      "-> 1\n",
      "-> 2\n",
      "-> 3\n",
      "-> 4\n",
      "No break command executed.\n"
     ]
    }
   ],
   "source": [
    "# For loops and range function\n",
    "\n",
    "for number in range(5): # 5 items, starting at 0.\n",
    "    print(number)\n",
    "\n",
    "# For else\n",
    "\n",
    "for number in range(5):\n",
    "    print('-> ' + str(number))\n",
    "    if(number == 10):\n",
    "        break\n",
    "else: # This is only executed if there were no 'break' statements executed during the loop\n",
    "    print('No break command executed.')"
   ]
  }
 ],
 "metadata": {
  "kernelspec": {
   "display_name": "Python 3 (ipykernel)",
   "language": "python",
   "name": "python3"
  },
  "language_info": {
   "codemirror_mode": {
    "name": "ipython",
    "version": 3
   },
   "file_extension": ".py",
   "mimetype": "text/x-python",
   "name": "python",
   "nbconvert_exporter": "python",
   "pygments_lexer": "ipython3",
   "version": "3.12.3"
  }
 },
 "nbformat": 4,
 "nbformat_minor": 5
}
