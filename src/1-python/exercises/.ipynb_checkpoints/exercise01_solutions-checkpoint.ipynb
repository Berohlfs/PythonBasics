{
 "cells": [
  {
   "cell_type": "markdown",
   "id": "fef5680f-a416-4135-8e5d-dde2dc970069",
   "metadata": {},
   "source": [
    "*For these exercises, you should not focus on error handling. Just assume the correct inputs, for learning purposes.*"
   ]
  },
  {
   "cell_type": "markdown",
   "id": "24ead4e4-85d3-41e1-a661-7f18c548e40c",
   "metadata": {},
   "source": [
    "# Question 01"
   ]
  },
  {
   "cell_type": "code",
   "execution_count": 42,
   "id": "54762506-b98d-41e5-9f94-f95c4bf4ce32",
   "metadata": {},
   "outputs": [
    {
     "name": "stdout",
     "output_type": "stream",
     "text": [
      "world Hello\n"
     ]
    }
   ],
   "source": [
    "def reverse_words(sentence):\n",
    "    return ' '.join(sentence.split()[::-1])\n",
    "\n",
    "print(reverse_words('Hello world'))"
   ]
  },
  {
   "cell_type": "markdown",
   "id": "b06915c8-4bbb-4e7c-a4f2-6b8f418e3df4",
   "metadata": {},
   "source": [
    "# Question 02"
   ]
  },
  {
   "cell_type": "code",
   "execution_count": 43,
   "id": "86039c38-09c8-4a18-abb5-ab88dda46e03",
   "metadata": {},
   "outputs": [
    {
     "name": "stdout",
     "output_type": "stream",
     "text": [
      "15\n"
     ]
    }
   ],
   "source": [
    "def sum_of_numbers(numbers):\n",
    "    sum = 0\n",
    "    for number in numbers:\n",
    "        sum += number\n",
    "    return sum\n",
    "\n",
    "print(sum_of_numbers([1,2,3,4,5]))"
   ]
  },
  {
   "cell_type": "markdown",
   "id": "7c4248c3-15dd-49de-a32f-0f69a91de9be",
   "metadata": {},
   "source": [
    "# Question 03"
   ]
  },
  {
   "cell_type": "code",
   "execution_count": 44,
   "id": "c866fa25-098e-405b-8a35-3553abffc5ca",
   "metadata": {},
   "outputs": [
    {
     "name": "stdout",
     "output_type": "stream",
     "text": [
      "[1, 2, 3, 4, 5]\n"
     ]
    }
   ],
   "source": [
    "def unique_elements(elements):\n",
    "    return list(set(elements))\n",
    "\n",
    "print(unique_elements([1, 2, 2, 3, 4, 4, 5]))"
   ]
  },
  {
   "cell_type": "markdown",
   "id": "79325702-186a-46b3-b7e4-6f4f81733eea",
   "metadata": {},
   "source": [
    "# Question 04"
   ]
  },
  {
   "cell_type": "code",
   "execution_count": 45,
   "id": "9f95a3d2-82f9-4848-ae7d-a5f1dc685eca",
   "metadata": {},
   "outputs": [
    {
     "name": "stdout",
     "output_type": "stream",
     "text": [
      "{'a': 1, 'b': 2, 'c': 3}\n"
     ]
    }
   ],
   "source": [
    "def lists_to_dict(list1, list2):\n",
    "    return {item[0]: item[1] for item in zip(list1, list2)}\n",
    "\n",
    "print(lists_to_dict(['a', 'b', 'c'], [1, 2, 3]))"
   ]
  },
  {
   "cell_type": "markdown",
   "id": "a10f4d00-03f7-4cec-9657-b59dc6d61fe2",
   "metadata": {},
   "source": [
    "# Question 05"
   ]
  },
  {
   "cell_type": "code",
   "execution_count": 46,
   "id": "630f200f-7614-4af9-bc85-7aa48311420d",
   "metadata": {},
   "outputs": [
    {
     "name": "stdout",
     "output_type": "stream",
     "text": [
      "(4, 5)\n"
     ]
    }
   ],
   "source": [
    "def swap_tuple(t):\n",
    "    x, y = t\n",
    "    return y, x\n",
    "\n",
    "print(swap_tuple((5,4)))"
   ]
  },
  {
   "cell_type": "markdown",
   "id": "c1462d68-2936-4368-b770-44790184408a",
   "metadata": {},
   "source": [
    "# Question 06"
   ]
  },
  {
   "cell_type": "code",
   "execution_count": 47,
   "id": "0527a77c-22e4-4fb9-964f-655b5a955f02",
   "metadata": {},
   "outputs": [
    {
     "name": "stdout",
     "output_type": "stream",
     "text": [
      "(54, 1)\n"
     ]
    }
   ],
   "source": [
    "def max_min(s):\n",
    "    return (max(s), min(s))\n",
    "\n",
    "print(max_min({1,6,7,20,54,2,6}))"
   ]
  },
  {
   "cell_type": "markdown",
   "id": "a8af7f16-3d33-4c19-a3f7-b3b1c5224b0d",
   "metadata": {},
   "source": [
    "# Question 07\n",
    "\n"
   ]
  },
  {
   "cell_type": "code",
   "execution_count": 48,
   "id": "70b8a400-411c-466a-a55a-fdbf478c4115",
   "metadata": {},
   "outputs": [
    {
     "name": "stdout",
     "output_type": "stream",
     "text": [
      "{'o': 4, 't': 1, ' ': 2, 'l': 1, 'í': 1, 'i': 1, 'u': 1, 'a': 1, 'R': 1, 'd': 2, 'r': 3, 'e': 1, 'c': 1}\n"
     ]
    }
   ],
   "source": [
    "def char_count(s):\n",
    "    temp_set = set(s)\n",
    "    return {char:s.count(char) for char in temp_set}\n",
    "\n",
    "print(char_count('Rato roedor ridículo'))"
   ]
  },
  {
   "cell_type": "markdown",
   "id": "f5aeee19-0aad-4d53-88df-bff692fc33db",
   "metadata": {},
   "source": [
    "# Question 08"
   ]
  },
  {
   "cell_type": "code",
   "execution_count": 49,
   "id": "f237fccc-0d9b-41d0-8cec-d56a56097b1a",
   "metadata": {},
   "outputs": [
    {
     "name": "stdout",
     "output_type": "stream",
     "text": [
      "[1, 2, 3, 1, 2]\n"
     ]
    }
   ],
   "source": [
    "def flatten(lst):\n",
    "    flat_list = []\n",
    "    for el in lst:\n",
    "        flat_list = [*flat_list, *el]\n",
    "    return flat_list\n",
    "\n",
    "print(flatten([[1,2,3], [1,2]]))"
   ]
  },
  {
   "cell_type": "markdown",
   "id": "e669aaa0-ba4d-4ccb-ae9c-ac92c3caf1d2",
   "metadata": {},
   "source": [
    "# Question 09"
   ]
  },
  {
   "cell_type": "code",
   "execution_count": 50,
   "id": "4a228234-72f4-465a-83b1-c300982e3b1c",
   "metadata": {},
   "outputs": [
    {
     "name": "stdout",
     "output_type": "stream",
     "text": [
      "True\n"
     ]
    }
   ],
   "source": [
    "def is_palindrome(s):\n",
    "    clean_str = s.replace(' ', '').lower()\n",
    "    return True if clean_str[::-1] == clean_str else False\n",
    "\n",
    "print(is_palindrome('A man a plan a canal Panama'))"
   ]
  },
  {
   "cell_type": "markdown",
   "id": "4ad22c8c-4e46-41ae-84d1-b1595eac4bab",
   "metadata": {},
   "source": [
    "# Question 10"
   ]
  },
  {
   "cell_type": "code",
   "execution_count": 51,
   "id": "30da9b52-73a6-4f2d-b32d-04affd154e08",
   "metadata": {},
   "outputs": [
    {
     "name": "stdout",
     "output_type": "stream",
     "text": [
      "120\n"
     ]
    }
   ],
   "source": [
    "def factorial(n):\n",
    "    if n == 1:\n",
    "        return 1\n",
    "    else:\n",
    "        return n * factorial(n - 1)\n",
    "\n",
    "print(factorial(5))"
   ]
  }
 ],
 "metadata": {
  "kernelspec": {
   "display_name": "Python 3 (ipykernel)",
   "language": "python",
   "name": "python3"
  },
  "language_info": {
   "codemirror_mode": {
    "name": "ipython",
    "version": 3
   },
   "file_extension": ".py",
   "mimetype": "text/x-python",
   "name": "python",
   "nbconvert_exporter": "python",
   "pygments_lexer": "ipython3",
   "version": "3.12.3"
  }
 },
 "nbformat": 4,
 "nbformat_minor": 5
}
