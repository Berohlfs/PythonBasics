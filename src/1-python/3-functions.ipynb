{
 "cells": [
  {
   "cell_type": "markdown",
   "id": "1b51d9e3-b49c-49cd-b497-22416342ae98",
   "metadata": {},
   "source": [
    "# Functions"
   ]
  },
  {
   "cell_type": "code",
   "execution_count": 34,
   "id": "54b0d250-2f31-41da-9052-e5e1b20788fd",
   "metadata": {},
   "outputs": [
    {
     "name": "stdout",
     "output_type": "stream",
     "text": [
      "Hello world!\n"
     ]
    }
   ],
   "source": [
    "# Basic syntax\n",
    "\n",
    "def hello():\n",
    "    print('Hello world!')\n",
    "\n",
    "hello()"
   ]
  },
  {
   "cell_type": "code",
   "execution_count": 3,
   "id": "72162a1d-e4fa-4ed9-b80b-9783ca6eae4f",
   "metadata": {},
   "outputs": [
    {
     "name": "stdout",
     "output_type": "stream",
     "text": [
      "Hi, Bernardo Rohlfs!\n"
     ]
    }
   ],
   "source": [
    "# Arguments\n",
    "\n",
    "def greet(first_name, last_name):\n",
    "    print(f\"Hi, {first_name} {last_name}!\")\n",
    "\n",
    "greet('Bernardo', 'Rohlfs')\n",
    "\n",
    "# All arguments are required by default\n",
    "\n",
    "# greet('Bernardo') --> ERROR"
   ]
  },
  {
   "cell_type": "code",
   "execution_count": 36,
   "id": "23aab31c-637d-4060-aeb9-59f8faa8697c",
   "metadata": {},
   "outputs": [
    {
     "name": "stdout",
     "output_type": "stream",
     "text": [
      "OI, TUDO BEM?\n",
      "OI, TUDO BEM?\n",
      "Hello world!\n",
      "None\n"
     ]
    }
   ],
   "source": [
    "# Returning values\n",
    "\n",
    "def convert_to_upper(string):\n",
    "    return string.upper()\n",
    "\n",
    "converted = convert_to_upper('oi, tudo bem?')\n",
    "\n",
    "print(converted)\n",
    "print(convert_to_upper('oi, tudo bem?'))\n",
    "print(hello()) # This will print 'None' (absence of value)"
   ]
  },
  {
   "cell_type": "code",
   "execution_count": 5,
   "id": "aaaa43de-46c6-4e2b-87ad-c5dcaebca3e6",
   "metadata": {},
   "outputs": [
    {
     "name": "stdout",
     "output_type": "stream",
     "text": [
      "Hi, Bernardo Rohlfs!\n",
      "Hi, Bernardo Rohlfs!\n"
     ]
    }
   ],
   "source": [
    "# Keyword arguments\n",
    "\n",
    "greet(first_name='Bernardo', last_name='Rohlfs') # Helps with readability\n",
    "\n",
    "greet(last_name='Rohlfs', first_name='Bernardo') # Allows change of order\n",
    "\n",
    "# greet('Rohlfs', first_name='Bernardo') ERROR --> Two 'first_name' arguments"
   ]
  },
  {
   "cell_type": "code",
   "execution_count": 6,
   "id": "9a986f51-4502-4568-9830-47c2f125b07c",
   "metadata": {},
   "outputs": [
    {
     "name": "stdout",
     "output_type": "stream",
     "text": [
      "3\n"
     ]
    }
   ],
   "source": [
    "# Optional parameters\n",
    "\n",
    "def increment(number, by=1): # All optional parameters MUST be placed after the required ones. Not doing so will cause errors.\n",
    "    return number + by\n",
    "\n",
    "print(increment(2))"
   ]
  },
  {
   "cell_type": "code",
   "execution_count": 7,
   "id": "55d16fa5-ae9c-403b-9e9c-d1ceb05333c2",
   "metadata": {},
   "outputs": [
    {
     "name": "stdout",
     "output_type": "stream",
     "text": [
      "(1, 2, 3, 4)\n",
      "1\n",
      "2\n",
      "3\n",
      "4\n"
     ]
    }
   ],
   "source": [
    "# Xargs\n",
    "\n",
    "def example_xargs(*numbers): # *args syntax gathers all parameters into a tuple (unmodifiable list). You can only have one *args parameter.\n",
    "    print(numbers)\n",
    "    for number in numbers:\n",
    "        print(number)\n",
    "\n",
    "example_xargs(1,2,3,4)"
   ]
  },
  {
   "cell_type": "code",
   "execution_count": 8,
   "id": "0f8286e0-5c8a-4d95-a59e-9d6088415735",
   "metadata": {},
   "outputs": [
    {
     "name": "stdout",
     "output_type": "stream",
     "text": [
      "{'name': 'Bernardo', 'last_name': 'Rohlfs'}\n",
      "{'nome': 'Bernardo'} (1, 2, 3)\n"
     ]
    }
   ],
   "source": [
    "# Xxargs\n",
    "\n",
    "def example_xxargs(**pairs): # **args syntax gathers all parameters into a dictionary. You can only have one **args parameter.\n",
    "    print(pairs)\n",
    "\n",
    "example_xxargs(name='Bernardo', last_name='Rohlfs')\n",
    "\n",
    "# Xxargs with Xargs\n",
    "\n",
    "def example_both(*numbers, **pairs): # You can use both together\n",
    "    print(pairs, numbers)\n",
    "\n",
    "example_both(1,2,3,nome='Bernardo')"
   ]
  },
  {
   "cell_type": "code",
   "execution_count": 9,
   "id": "44c2f618-5e2d-414a-b460-dd8cb5d669d5",
   "metadata": {},
   "outputs": [
    {
     "name": "stdout",
     "output_type": "stream",
     "text": [
      "1\n",
      "Olá\n",
      "1\n"
     ]
    }
   ],
   "source": [
    "# Scope\n",
    "\n",
    "if(2 == 2): # 'ifs', 'for loops', 'while loops'... these structures DO NOT create new scopes.\n",
    "    message = 1 # Global\n",
    "\n",
    "print(message)\n",
    "\n",
    "def my_func(): # Functions, on the other hand, create new scopes.\n",
    "    message = 'Olá' # New variable. Local scope.\n",
    "    print(message)\n",
    "\n",
    "my_func()\n",
    "print(message)\n",
    "\n",
    "# There is also the 'global statement' (NOT RECOMMENDED)"
   ]
  }
 ],
 "metadata": {
  "kernelspec": {
   "display_name": "Python 3 (ipykernel)",
   "language": "python",
   "name": "python3"
  },
  "language_info": {
   "codemirror_mode": {
    "name": "ipython",
    "version": 3
   },
   "file_extension": ".py",
   "mimetype": "text/x-python",
   "name": "python",
   "nbconvert_exporter": "python",
   "pygments_lexer": "ipython3",
   "version": "3.12.3"
  }
 },
 "nbformat": 4,
 "nbformat_minor": 5
}
