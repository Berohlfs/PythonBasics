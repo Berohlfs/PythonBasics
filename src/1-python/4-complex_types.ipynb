{
 "cells": [
  {
   "cell_type": "markdown",
   "id": "e628bda6-f48f-495c-b091-3c446524c3f2",
   "metadata": {},
   "source": [
    "# Complex types"
   ]
  },
  {
   "cell_type": "markdown",
   "id": "b5a8f709-5d3f-4485-b0dd-9524bfc76474",
   "metadata": {},
   "source": [
    "## Lists"
   ]
  },
  {
   "cell_type": "code",
   "execution_count": 57,
   "id": "f8f0beb2-76a2-4e24-93d3-936f2e05394a",
   "metadata": {},
   "outputs": [
    {
     "name": "stdout",
     "output_type": "stream",
     "text": [
      "[1, 2, '3', [4, 5, 6, 7]]\n"
     ]
    }
   ],
   "source": [
    "# Lists in Python are mutable sequences values of different types (heterogeneous)\n",
    "\n",
    "my_list = [1,2,'3', [4,5,6,7]] # Defined with square brackets\n",
    "\n",
    "print(my_list)"
   ]
  },
  {
   "cell_type": "code",
   "execution_count": 58,
   "id": "03415f44-0e2d-43d2-b41d-51e4ff46074b",
   "metadata": {},
   "outputs": [
    {
     "name": "stdout",
     "output_type": "stream",
     "text": [
      "[1, 2, 3, 4]\n",
      "[1, 2, 1, 2]\n"
     ]
    }
   ],
   "source": [
    "# Operations\n",
    "\n",
    "list01 = [1,2]\n",
    "list02 = [3,4]\n",
    "\n",
    "list03 = list01 + list02\n",
    "\n",
    "print(list03)\n",
    "\n",
    "list04 = list01 * 2\n",
    "\n",
    "print(list04)"
   ]
  },
  {
   "cell_type": "code",
   "execution_count": 59,
   "id": "d52e924e-b422-4d26-8055-299a99430a0a",
   "metadata": {},
   "outputs": [
    {
     "name": "stdout",
     "output_type": "stream",
     "text": [
      "[0, 1, 2, 3, 4, 5, 6, 7, 8, 9, 10, 11, 12, 13, 14, 15, 16, 17, 18, 19]\n",
      "['H', 'e', 'l', 'l', 'o', ' ', 'w', 'o', 'r', 'l', 'd', '!']\n",
      "12\n"
     ]
    }
   ],
   "source": [
    "# The list function (accepts an iterable argument and transforms it into a list)\n",
    "\n",
    "test = list(range(20))\n",
    "\n",
    "print(test)\n",
    "\n",
    "test2 = list('Hello world!')\n",
    "\n",
    "print(test2)\n",
    "\n",
    "# len function\n",
    "\n",
    "print(len(test2))"
   ]
  },
  {
   "cell_type": "code",
   "execution_count": 60,
   "id": "3396b663-add8-4b13-8336-3f996954b1d0",
   "metadata": {},
   "outputs": [
    {
     "name": "stdout",
     "output_type": "stream",
     "text": [
      "!\n",
      "['H', 'l', 'o', 'w', 'r', 'd']\n"
     ]
    }
   ],
   "source": [
    "# Slicing (similar to string slicing)\n",
    "\n",
    "print(test2[-1])\n",
    "print(test2[0:-1:2])"
   ]
  },
  {
   "cell_type": "code",
   "execution_count": 61,
   "id": "c0812ebc-dcf8-46e4-ab84-7fa0471f4522",
   "metadata": {},
   "outputs": [
    {
     "name": "stdout",
     "output_type": "stream",
     "text": [
      "['Y', 'e', 'l', 'l', 'o', ' ', 'w', 'o', 'r', 'l', 'd', '!']\n"
     ]
    }
   ],
   "source": [
    "# Lists, unlike strings, are MUTABLE\n",
    "\n",
    "test2[0] = 'Y'\n",
    "print(test2)"
   ]
  },
  {
   "cell_type": "code",
   "execution_count": 62,
   "id": "4b3219cd-e870-4cb0-b24e-574d18529646",
   "metadata": {},
   "outputs": [
    {
     "name": "stdout",
     "output_type": "stream",
     "text": [
      "1 2 3\n",
      "1 2 3\n",
      "0 1 [2, 3, 4, 5, 6, 7, 8, 9, 10, 11, 12, 13] 14\n",
      "6\n"
     ]
    }
   ],
   "source": [
    "# List unpacking\n",
    "\n",
    "listx = [1,2,3]\n",
    "\n",
    "n1 = listx[0] # Too verbose\n",
    "n2 = listx[1]\n",
    "n3 = listx[2]\n",
    "\n",
    "print(n1, n2, n3)\n",
    "\n",
    "n4, n5, n6 = listx # Unpacking\n",
    "\n",
    "print(n4, n5, n6)\n",
    "\n",
    "# Spread syntax\n",
    "\n",
    "# n4, n5 = listx --> This will throw an ERROR. Amount of new variables MUST be equal to total amount of unpacked items. \n",
    "\n",
    "large_list = list(range(15))\n",
    "\n",
    "first, second, *rest, last = large_list # Use spread syntax instead.\n",
    "\n",
    "print(first, second, rest, last)\n",
    "\n",
    "# More with spread syntax\n",
    "\n",
    "my_list = [1,2,3]\n",
    "\n",
    "def sum(*num):\n",
    "    sum = 0\n",
    "    for num in num:\n",
    "        sum += num\n",
    "    return sum\n",
    "\n",
    "print(sum(*my_list))"
   ]
  },
  {
   "cell_type": "code",
   "execution_count": 63,
   "id": "9de695f7-814b-4123-a58e-a4f8c22e90b2",
   "metadata": {},
   "outputs": [
    {
     "name": "stdout",
     "output_type": "stream",
     "text": [
      "1\n",
      "2\n",
      "3\n",
      "4\n",
      "5\n",
      "(0, 1)\n",
      "(1, 2)\n",
      "(2, 3)\n",
      "(3, 4)\n",
      "(4, 5)\n",
      "0\n",
      "1\n",
      "2\n",
      "3\n",
      "4\n"
     ]
    }
   ],
   "source": [
    "# Looping over lists\n",
    "\n",
    "list01 = [1,2,3,4,5]\n",
    "\n",
    "for num in list01:\n",
    "    print(num)\n",
    "\n",
    "for num in enumerate(list01): # 'num' is now a tuple of two elements: index and value\n",
    "    print(num)\n",
    "\n",
    "for index, value in enumerate(list01): # Unpacked version\n",
    "    print(index)"
   ]
  },
  {
   "cell_type": "code",
   "execution_count": 64,
   "id": "98ab8d45-af64-4e67-8b1f-d0daa6525be5",
   "metadata": {},
   "outputs": [
    {
     "name": "stdout",
     "output_type": "stream",
     "text": [
      "[1, 2]\n",
      "[1, 1.5, 2]\n",
      "[1]\n",
      "[]\n",
      "Element not found.\n",
      "[3, 4]\n",
      "[]\n"
     ]
    }
   ],
   "source": [
    "# Adding and removing list items\n",
    "\n",
    "# Adding\n",
    "\n",
    "list_add_ex = [1]\n",
    "\n",
    "list_add_ex.append(2) # Add to the end\n",
    "print(list_add_ex)\n",
    "\n",
    "list_add_ex.insert(1, 1.5) # Add to a specific index\n",
    "print(list_add_ex)\n",
    "\n",
    "# Removing\n",
    "\n",
    "list_rem_ex = [1,2]\n",
    "\n",
    "list_rem_ex.pop() # Remove the last item\n",
    "print(list_rem_ex)\n",
    "\n",
    "list_rem_ex.pop(0) # Remove the element of the given index\n",
    "print(list_rem_ex)\n",
    "\n",
    "if(1.5 in list_rem_ex): # For every method, CHECK for existence. Otherwise, Pyhton will throw an error.\n",
    "    list_rem_ex.remove(1.5) # Remove specific value (first appearance)\n",
    "    print(list_rem_ex)\n",
    "else:\n",
    "    print('Element not found.')\n",
    "\n",
    "list_rem_ex = [1,2,3,4]\n",
    "del list_rem_ex[0:2] # Deletes chunks\n",
    "print(list_rem_ex)\n",
    "\n",
    "list_rem_ex.clear() # Deletes all elements (does not need checking).\n",
    "print(list_rem_ex)"
   ]
  },
  {
   "cell_type": "code",
   "execution_count": 65,
   "id": "885612b7-67a1-4f26-bf58-28cc10893c02",
   "metadata": {},
   "outputs": [
    {
     "name": "stdout",
     "output_type": "stream",
     "text": [
      "0\n",
      "1\n"
     ]
    }
   ],
   "source": [
    "# Finding elements\n",
    "\n",
    "# .index()\n",
    "\n",
    "my_list = ['Bernardo', 'Pedro', 'João']\n",
    "if('Bernardo' in my_list):\n",
    "    print(my_list.index('Bernardo'))\n",
    "\n",
    "# .count()\n",
    "\n",
    "print(my_list.count('João'))"
   ]
  },
  {
   "cell_type": "code",
   "execution_count": 66,
   "id": "fc48140b-4596-4e03-8f8a-786816ad95c2",
   "metadata": {},
   "outputs": [
    {
     "name": "stdout",
     "output_type": "stream",
     "text": [
      "[1, 3, 5, 10, 18, 20]\n",
      "[1, 5, 3, 10, 20, 18] [1, 3, 5, 10, 18, 20]\n",
      "[('Product 3', 4.59), ('Product 2', 18.99), ('Product 1', 23.5), ('Product 3', 43.19)]\n",
      "[('Product 3', 4.59), ('Product 2', 18.99), ('Product 1', 23.5), ('Product 3', 43.19)]\n"
     ]
    }
   ],
   "source": [
    "# Sorting\n",
    "\n",
    "num_list = [1,5,3,10,20,18]\n",
    "num_list.sort() # has 'reverse' and 'key' parameters\n",
    "\n",
    "print(num_list) # 'in place' method. Modifies the original array\n",
    "\n",
    "num_list2 = [1,5,3,10,20,18]\n",
    "\n",
    "num_list2_sorted = sorted(num_list2) # Not 'in place'. Creates a new sorted array. Also has 'reverse' and 'key' parameters\n",
    "\n",
    "print(num_list2, num_list2_sorted)\n",
    "\n",
    "# The 'KEY' parameter (used for complex types of data)\n",
    "\n",
    "products = [\n",
    "    ('Product 1', 23.50),\n",
    "    ('Product 2', 18.99),\n",
    "    ('Product 3', 43.19),\n",
    "    ('Product 3', 4.59),\n",
    "]\n",
    "\n",
    "def sort_key_generator(item):\n",
    "    return item[1]\n",
    "\n",
    "print(sorted(products, key=sort_key_generator))\n",
    "\n",
    "# Making the code cleaner using lamda functions (anonymous) | Syntax: lambda parameters:expression\n",
    "\n",
    "print(sorted(products, key=lambda item:item[1]))"
   ]
  },
  {
   "cell_type": "code",
   "execution_count": 67,
   "id": "d074733d-2a21-412a-b885-1c241c1935b5",
   "metadata": {},
   "outputs": [
    {
     "name": "stdout",
     "output_type": "stream",
     "text": [
      "[1, 4, 9]\n",
      "[2, 4, 6]\n"
     ]
    }
   ],
   "source": [
    "# Map function\n",
    "\n",
    "to_be_mapped_list = [1,2,3]\n",
    "\n",
    "mapped_list = list(map(lambda item:item * item, to_be_mapped_list)) # Convert map object to list\n",
    "\n",
    "print(mapped_list)\n",
    "\n",
    "# Filter function\n",
    "\n",
    "to_be_filtered_list = [1,2,3,4,5,6]\n",
    "\n",
    "filtered_list = list(filter(lambda item:item % 2 == 0, to_be_filtered_list)) # Convert map object to list\n",
    "\n",
    "print(filtered_list)"
   ]
  },
  {
   "cell_type": "code",
   "execution_count": 68,
   "id": "82324442-aa8d-4cc0-94a5-6127a5b9a7cc",
   "metadata": {},
   "outputs": [
    {
     "name": "stdout",
     "output_type": "stream",
     "text": [
      "[1, 4, 9]\n",
      "[2, 4, 6]\n"
     ]
    }
   ],
   "source": [
    "# Comprehensions (cleaner way of coding map and filter operations)\n",
    "\n",
    "mapped_list = [item * item for item in to_be_mapped_list]\n",
    "print(mapped_list)\n",
    "\n",
    "filtered_list = [item for item in to_be_filtered_list if item % 2 == 0]\n",
    "print(filtered_list)\n",
    "\n",
    "# You can use both comprehensions together"
   ]
  },
  {
   "cell_type": "code",
   "execution_count": 69,
   "id": "f7354da5-e66e-4c26-ad66-a96ce8f39b4c",
   "metadata": {},
   "outputs": [
    {
     "name": "stdout",
     "output_type": "stream",
     "text": [
      "[(1, 4, 7), (2, 5, 8), (3, 6, 9)]\n",
      "[(1, 4, 7), (2, 5, 8)]\n"
     ]
    }
   ],
   "source": [
    "# Zip function\n",
    "\n",
    "lists = [\n",
    "    [1,2,3],\n",
    "    [4,5,6],\n",
    "    [7,8,9]\n",
    "]\n",
    "\n",
    "print(list(zip(*lists))) # The zip function accepts an array of lists and groups the values of same index.\n",
    "\n",
    "lists = [\n",
    "    [1,2,3],\n",
    "    [4,5,6],\n",
    "    [7,8] # ATTENTION\n",
    "]\n",
    "\n",
    "print(list(zip(*lists))) # It will form new groups until there are not enough elements to make new ones."
   ]
  },
  {
   "cell_type": "code",
   "execution_count": 70,
   "id": "0758b892-0998-4a5b-9864-25aff3868e1b",
   "metadata": {},
   "outputs": [
    {
     "name": "stdout",
     "output_type": "stream",
     "text": [
      "Empty\n",
      "[2, 3]\n"
     ]
    }
   ],
   "source": [
    "# Empty iterables are FALSY, unlike JavaScript\n",
    "\n",
    "empty = ()\n",
    "\n",
    "if not empty:\n",
    "    print('Empty')\n",
    "\n",
    "# Important topics: \n",
    "# > Stacks (LIFO) ----> pop() and append()\n",
    "# > Queues (FIFO) ----> COLLECTIONS MODULE (this is necessary because big queues can affect performance)\n",
    "\n",
    "from collections import deque\n",
    "\n",
    "queue = deque([]) # This creates a new 'queue' object that is more performatic and has specialized methods.\n",
    "\n",
    "queue.append(1)\n",
    "queue.append(2)\n",
    "queue.append(3)\n",
    "if queue:\n",
    "    queue.popleft() # Exclusive deque method.\n",
    "\n",
    "print(list(queue))"
   ]
  },
  {
   "cell_type": "markdown",
   "id": "ce8c6b6d-091a-4d10-b3bd-0a7a19b0a4a8",
   "metadata": {},
   "source": [
    "## Tuples"
   ]
  },
  {
   "cell_type": "code",
   "execution_count": null,
   "id": "b8121eab-5a14-4a48-b738-d721364ca5d9",
   "metadata": {},
   "outputs": [],
   "source": []
  }
 ],
 "metadata": {
  "kernelspec": {
   "display_name": "Python 3 (ipykernel)",
   "language": "python",
   "name": "python3"
  },
  "language_info": {
   "codemirror_mode": {
    "name": "ipython",
    "version": 3
   },
   "file_extension": ".py",
   "mimetype": "text/x-python",
   "name": "python",
   "nbconvert_exporter": "python",
   "pygments_lexer": "ipython3",
   "version": "3.12.3"
  }
 },
 "nbformat": 4,
 "nbformat_minor": 5
}
