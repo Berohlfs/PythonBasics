{
 "cells": [
  {
   "cell_type": "markdown",
   "id": "c192a552-f9c0-4930-b1fe-a94c4ac3676d",
   "metadata": {},
   "source": [
    "# Code Flow (loops and conditional structures)"
   ]
  },
  {
   "cell_type": "code",
   "execution_count": 17,
   "id": "f4e06893-c1b5-4c26-80c3-dd8e859eba22",
   "metadata": {},
   "outputs": [
    {
     "name": "stdout",
     "output_type": "stream",
     "text": [
      "True\n",
      "False\n",
      "True\n",
      "False\n",
      "False\n",
      "False\n",
      "True\n",
      "True\n"
     ]
    }
   ],
   "source": [
    "# Comparison operators\n",
    "\n",
    "print(10 > 3)\n",
    "print(3 < 3)\n",
    "print(3 <= 3)\n",
    "print(3 >= 5)\n",
    "\n",
    "print(3 == 5)\n",
    "print(3 == \"3\") # Types are taken into account\n",
    "print(3 != \"3\")\n",
    "\n",
    "# Strings can also be compared (alphabetical order, NOT length)\n",
    "print('apple' < 'bag')\n",
    "\n",
    "# All these above are conditional statements that return a BOOLEAN value."
   ]
  },
  {
   "cell_type": "code",
   "execution_count": 18,
   "id": "038804f2-46c9-4a37-9ab2-7fcd1210f1c6",
   "metadata": {},
   "outputs": [
    {
     "name": "stdout",
     "output_type": "stream",
     "text": [
      "Cold.\n"
     ]
    }
   ],
   "source": [
    "# Condicional statements and structures\n",
    "\n",
    "temperature = 15\n",
    "\n",
    "if temperature > 25:\n",
    "    print('Hot.')\n",
    "elif temperature > 17:\n",
    "    print('Cool.')\n",
    "else:\n",
    "    print('Cold.')"
   ]
  },
  {
   "cell_type": "code",
   "execution_count": 19,
   "id": "63d6af6d-2d37-4464-ad78-6f8818792d95",
   "metadata": {},
   "outputs": [
    {
     "name": "stdout",
     "output_type": "stream",
     "text": [
      "Look at the moon\n"
     ]
    }
   ],
   "source": [
    "# Ternary conditional structure\n",
    "\n",
    "day_time = False\n",
    "\n",
    "message = 'Look at the sun' if day_time else 'Look at the moon'\n",
    "\n",
    "print(message)"
   ]
  },
  {
   "cell_type": "code",
   "execution_count": 20,
   "id": "7ad1fe9e-90b9-4d9d-9d80-16ace326d85b",
   "metadata": {},
   "outputs": [
    {
     "name": "stdout",
     "output_type": "stream",
     "text": [
      "You are good to go!\n",
      "In between.\n",
      "character identified.\n"
     ]
    }
   ],
   "source": [
    "# Logical operators\n",
    "\n",
    "# and; or; not\n",
    "\n",
    "qualified_driver = True\n",
    "drunk = False\n",
    "\n",
    "if qualified_driver and (not drunk):\n",
    "    print('You are good to go!')\n",
    "else:\n",
    "    print('Nope')\n",
    "\n",
    "# 'OR' operators use short-circuit evaluation ;)\n",
    "\n",
    "# Python allows chaining comparison operators\n",
    "\n",
    "if 0 < 30 < 60:\n",
    "    print('In between.')\n",
    "\n",
    "# Check for membership\n",
    "\n",
    "name = 'Bernardo'\n",
    "if 'e' in name:\n",
    "    print('character identified.')"
   ]
  },
  {
   "cell_type": "code",
   "execution_count": 21,
   "id": "523534a2-5eff-4805-b093-cf86d604ff80",
   "metadata": {},
   "outputs": [
    {
     "name": "stdout",
     "output_type": "stream",
     "text": [
      "0\n",
      "1\n",
      "2\n",
      "3\n",
      "4\n",
      "-> 0\n",
      "-> 1\n",
      "-> 2\n",
      "-> 3\n",
      "-> 4\n",
      "No break command executed.\n"
     ]
    }
   ],
   "source": [
    "# For loops and range function\n",
    "\n",
    "for number in range(5): # 5 items, starting at 0.\n",
    "    print(number)\n",
    "\n",
    "# For else\n",
    "\n",
    "for number in range(5):\n",
    "    print('-> ' + str(number))\n",
    "    if(number == 10):\n",
    "        break\n",
    "else: # This is only executed if there were no 'break' statements executed during the loop\n",
    "    print('No break command executed.')"
   ]
  },
  {
   "cell_type": "code",
   "execution_count": 22,
   "id": "d18d2738-6278-41f7-b402-bd5805b3e830",
   "metadata": {},
   "outputs": [
    {
     "name": "stdout",
     "output_type": "stream",
     "text": [
      "0 : 0\n",
      "0 : 1\n",
      "0 : 2\n",
      "1 : 0\n",
      "1 : 1\n",
      "1 : 2\n",
      "2 : 0\n",
      "2 : 1\n",
      "2 : 2\n"
     ]
    }
   ],
   "source": [
    "# Nested loops\n",
    "\n",
    "for x in range(3):\n",
    "    for y in range (3):\n",
    "        print(f\"{x} : {y}\")"
   ]
  },
  {
   "cell_type": "code",
   "execution_count": 23,
   "id": "20584c98-15ae-4796-ad11-176184f6f598",
   "metadata": {},
   "outputs": [
    {
     "name": "stdout",
     "output_type": "stream",
     "text": [
      "B\n",
      "e\n",
      "r\n",
      "n\n",
      "a\n",
      "r\n",
      "d\n",
      "o\n",
      "0\n",
      "1\n",
      "2\n",
      "4\n"
     ]
    }
   ],
   "source": [
    "# Iterables\n",
    "\n",
    "# String and lists, for example, are iterable objects\n",
    "\n",
    "my_str = 'Bernardo'\n",
    "\n",
    "for char in my_str:\n",
    "    print(char)\n",
    "\n",
    "# Continue statement\n",
    "\n",
    "for number in range(5):\n",
    "    if(number == 3):\n",
    "        continue # Skips to the next iteration\n",
    "    print(number)"
   ]
  },
  {
   "cell_type": "code",
   "execution_count": 24,
   "id": "0ccea30a-3b6c-4772-b28a-2ffe2a5971f2",
   "metadata": {},
   "outputs": [
    {
     "name": "stdout",
     "output_type": "stream",
     "text": [
      "100\n",
      "50\n",
      "25\n",
      "12\n",
      "100\n",
      "50\n",
      "25\n"
     ]
    }
   ],
   "source": [
    "# While loop\n",
    "\n",
    "number = 100\n",
    "\n",
    "while number > 10:\n",
    "    print(number)\n",
    "    number //= 2\n",
    "    if(number == 50):\n",
    "        pass # Placeholder command for future development. Empty blocks will throw errors\n",
    "\n",
    "# Infinite loops\n",
    "\n",
    "number2 = 100\n",
    "\n",
    "while True:\n",
    "    print(number2)\n",
    "    number2 //= 2\n",
    "    if(number2 < 25):\n",
    "        break # It's essential to add a 'break flag' to an infinite loop"
   ]
  }
 ],
 "metadata": {
  "kernelspec": {
   "display_name": "Python 3 (ipykernel)",
   "language": "python",
   "name": "python3"
  },
  "language_info": {
   "codemirror_mode": {
    "name": "ipython",
    "version": 3
   },
   "file_extension": ".py",
   "mimetype": "text/x-python",
   "name": "python",
   "nbconvert_exporter": "python",
   "pygments_lexer": "ipython3",
   "version": "3.12.3"
  }
 },
 "nbformat": 4,
 "nbformat_minor": 5
}
